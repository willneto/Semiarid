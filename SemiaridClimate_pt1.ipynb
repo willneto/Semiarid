{
 "cells": [
  {
   "cell_type": "markdown",
   "metadata": {},
   "source": [
    "**Note:** The databases used and the codes can be found in my GitHub repository: https://github.com/willneto/Semiarid\n",
    "\n",
    "## Semiarid Climate (part 1)\n",
    "\n",
    "In this code, we will develop an analysis of climate conditions in a part of Brazilian territory, namely, the SUDENE area - States of Maranhão, Piauí, Ceará, Rio Grande do Norte, Paraíba, Pernambuco, Alagoas, Sergipe, Bahia e, parcialmente, os Estados de Minas Gerais e do Espírito Santo.\n",
    "\n",
    "To do that, we need to go through the following path:\n",
    "\n",
    "- First, using the climates data from INMET, we will create a database with the indicators reflecting the climate conditions from 1981 to 2010.\n",
    "- Second, we will use an interpolation technique to fill all cities with climate indicators information.\n",
    "- Third, we will plot maps to show the regions with more semiarid conditions.\n",
    "\n",
    "In this notebook, we will develop the first path. Here, the main ambition is to show you how to use the data science framework to manipulate data."
   ]
  },
  {
   "cell_type": "markdown",
   "metadata": {},
   "source": [
    "**Libraries**"
   ]
  },
  {
   "cell_type": "code",
   "execution_count": 1,
   "metadata": {},
   "outputs": [],
   "source": [
    "import pandas as pd\n",
    "import matplotlib.pyplot as plt\n",
    "from unidecode import unidecode\n",
    "import datetime\n",
    "import glob"
   ]
  },
  {
   "cell_type": "markdown",
   "metadata": {},
   "source": [
    "## Importing INMET data\n",
    "\n",
    "**Note:** INMET means National Institute of Meteorology.\n",
    "\n",
    "The data we obtain can be requested from INMET through the following link (however, we make this data available here):\n",
    "\n",
    "https://bdmep.inmet.gov.br/\n",
    "\n",
    "The available data are from each meteorology station; so, there are more than 200 CSV files. Therefore, we need to import it and work to build a single data frame. First, however, the file has a specific format: in the beginning, there is information about the station; next, we can find the climate data. Below, we present an example for you to understand this:"
   ]
  },
  {
   "cell_type": "code",
   "execution_count": 2,
   "metadata": {},
   "outputs": [
    {
     "data": {
      "text/html": [
       "<div>\n",
       "<style scoped>\n",
       "    .dataframe tbody tr th:only-of-type {\n",
       "        vertical-align: middle;\n",
       "    }\n",
       "\n",
       "    .dataframe tbody tr th {\n",
       "        vertical-align: top;\n",
       "    }\n",
       "\n",
       "    .dataframe thead th {\n",
       "        text-align: right;\n",
       "    }\n",
       "</style>\n",
       "<table border=\"1\" class=\"dataframe\">\n",
       "  <thead>\n",
       "    <tr style=\"text-align: right;\">\n",
       "      <th></th>\n",
       "      <th>Nome</th>\n",
       "      <th>PARNAIBA</th>\n",
       "    </tr>\n",
       "  </thead>\n",
       "  <tbody>\n",
       "    <tr>\n",
       "      <th>0</th>\n",
       "      <td>Codigo Estacao</td>\n",
       "      <td>82287</td>\n",
       "    </tr>\n",
       "    <tr>\n",
       "      <th>1</th>\n",
       "      <td>Latitude</td>\n",
       "      <td>-3.08668</td>\n",
       "    </tr>\n",
       "    <tr>\n",
       "      <th>2</th>\n",
       "      <td>Longitude</td>\n",
       "      <td>-41.783139</td>\n",
       "    </tr>\n",
       "    <tr>\n",
       "      <th>3</th>\n",
       "      <td>Altitude</td>\n",
       "      <td>52.11</td>\n",
       "    </tr>\n",
       "    <tr>\n",
       "      <th>4</th>\n",
       "      <td>Situacao</td>\n",
       "      <td>Desativada</td>\n",
       "    </tr>\n",
       "  </tbody>\n",
       "</table>\n",
       "</div>"
      ],
      "text/plain": [
       "             Nome     PARNAIBA\n",
       "0  Codigo Estacao        82287\n",
       "1        Latitude     -3.08668\n",
       "2       Longitude   -41.783139\n",
       "3        Altitude        52.11\n",
       "4        Situacao   Desativada"
      ]
     },
     "execution_count": 2,
     "metadata": {},
     "output_type": "execute_result"
    }
   ],
   "source": [
    "##Station information\n",
    "pd.read_csv(\"Solicitado_MES_81_2010_CONVENCIONAL\\\\dados_82287_M_1981-01-01_2010-12-31.csv\",\n",
    "            encoding= 'ISO-8859-1',\n",
    "            sep=':',\n",
    "            nrows=8,\n",
    "            decimal=',').head()"
   ]
  },
  {
   "cell_type": "code",
   "execution_count": 3,
   "metadata": {},
   "outputs": [
    {
     "data": {
      "text/html": [
       "<div>\n",
       "<style scoped>\n",
       "    .dataframe tbody tr th:only-of-type {\n",
       "        vertical-align: middle;\n",
       "    }\n",
       "\n",
       "    .dataframe tbody tr th {\n",
       "        vertical-align: top;\n",
       "    }\n",
       "\n",
       "    .dataframe thead th {\n",
       "        text-align: right;\n",
       "    }\n",
       "</style>\n",
       "<table border=\"1\" class=\"dataframe\">\n",
       "  <thead>\n",
       "    <tr style=\"text-align: right;\">\n",
       "      <th></th>\n",
       "      <th>Data Medicao</th>\n",
       "      <th>DIRECAO PREDOMINANTE DO VENTO, MENSAL(Â° (gr))</th>\n",
       "      <th>EVAPORACAO DO PICHE, MENSAL(mm)</th>\n",
       "      <th>EVAPOTRANSPIRACAO POTENCIAL, BH MENSAL(mm)</th>\n",
       "      <th>EVAPOTRANSPIRACAO REAL, BH MENSAL(mm)</th>\n",
       "      <th>INSOLACAO TOTAL, MENSAL(h)</th>\n",
       "      <th>NEBULOSIDADE, MEDIA MENSAL(dÃ©cimos)</th>\n",
       "      <th>NUMERO DE DIAS COM PRECIP. PLUV, MENSAL(nÃºmero)</th>\n",
       "      <th>PRECIPITACAO TOTAL, MENSAL(mm)</th>\n",
       "      <th>PRESSAO ATMOSFERICA AO NIVEL DO MAR, MEDIA MENSAL(mB)</th>\n",
       "      <th>PRESSAO ATMOSFERICA, MEDIA MENSAL(mB)</th>\n",
       "      <th>TEMPERATURA MAXIMA MEDIA, MENSAL(Â°C)</th>\n",
       "      <th>TEMPERATURA MEDIA COMPENSADA, MENSAL(Â°C)</th>\n",
       "      <th>TEMPERATURA MINIMA MEDIA, MENSAL(Â°C)</th>\n",
       "      <th>UMIDADE RELATIVA DO AR, MEDIA MENSAL(%)</th>\n",
       "      <th>VENTO, VELOCIDADE MAXIMA MENSAL(m/s)</th>\n",
       "      <th>VENTO, VELOCIDADE MEDIA MENSAL(m/s)</th>\n",
       "      <th>VISIBILIDADE, MEDIA MENSAL(codigo)</th>\n",
       "      <th>Unnamed: 18</th>\n",
       "    </tr>\n",
       "  </thead>\n",
       "  <tbody>\n",
       "    <tr>\n",
       "      <th>0</th>\n",
       "      <td>1981-01-31</td>\n",
       "      <td>5.0</td>\n",
       "      <td>162.7</td>\n",
       "      <td>NaN</td>\n",
       "      <td>NaN</td>\n",
       "      <td>190.2</td>\n",
       "      <td>5.597701</td>\n",
       "      <td>7.0</td>\n",
       "      <td>31.5</td>\n",
       "      <td>NaN</td>\n",
       "      <td>1004.718391</td>\n",
       "      <td>31.513793</td>\n",
       "      <td>27.553793</td>\n",
       "      <td>23.900000</td>\n",
       "      <td>74.129310</td>\n",
       "      <td>8.1</td>\n",
       "      <td>5.010345</td>\n",
       "      <td>67.796610</td>\n",
       "      <td>NaN</td>\n",
       "    </tr>\n",
       "    <tr>\n",
       "      <th>1</th>\n",
       "      <td>1981-02-28</td>\n",
       "      <td>5.0</td>\n",
       "      <td>NaN</td>\n",
       "      <td>NaN</td>\n",
       "      <td>NaN</td>\n",
       "      <td>187.0</td>\n",
       "      <td>4.794872</td>\n",
       "      <td>7.0</td>\n",
       "      <td>62.7</td>\n",
       "      <td>NaN</td>\n",
       "      <td>1003.760256</td>\n",
       "      <td>31.365385</td>\n",
       "      <td>27.510769</td>\n",
       "      <td>23.857692</td>\n",
       "      <td>74.880435</td>\n",
       "      <td>8.1</td>\n",
       "      <td>4.875641</td>\n",
       "      <td>69.038462</td>\n",
       "      <td>NaN</td>\n",
       "    </tr>\n",
       "    <tr>\n",
       "      <th>2</th>\n",
       "      <td>1981-03-31</td>\n",
       "      <td>5.0</td>\n",
       "      <td>114.2</td>\n",
       "      <td>NaN</td>\n",
       "      <td>NaN</td>\n",
       "      <td>191.9</td>\n",
       "      <td>5.698925</td>\n",
       "      <td>17.0</td>\n",
       "      <td>528.3</td>\n",
       "      <td>NaN</td>\n",
       "      <td>1005.005376</td>\n",
       "      <td>30.116129</td>\n",
       "      <td>26.489677</td>\n",
       "      <td>23.129032</td>\n",
       "      <td>83.369565</td>\n",
       "      <td>8.3</td>\n",
       "      <td>3.882796</td>\n",
       "      <td>64.193548</td>\n",
       "      <td>NaN</td>\n",
       "    </tr>\n",
       "    <tr>\n",
       "      <th>3</th>\n",
       "      <td>1981-04-30</td>\n",
       "      <td>9.0</td>\n",
       "      <td>124.3</td>\n",
       "      <td>NaN</td>\n",
       "      <td>NaN</td>\n",
       "      <td>249.8</td>\n",
       "      <td>3.822222</td>\n",
       "      <td>6.0</td>\n",
       "      <td>74.5</td>\n",
       "      <td>NaN</td>\n",
       "      <td>1004.151111</td>\n",
       "      <td>31.953333</td>\n",
       "      <td>27.484000</td>\n",
       "      <td>22.910000</td>\n",
       "      <td>77.985294</td>\n",
       "      <td>9.1</td>\n",
       "      <td>3.835556</td>\n",
       "      <td>69.672131</td>\n",
       "      <td>NaN</td>\n",
       "    </tr>\n",
       "    <tr>\n",
       "      <th>4</th>\n",
       "      <td>1981-05-31</td>\n",
       "      <td>9.0</td>\n",
       "      <td>79.1</td>\n",
       "      <td>NaN</td>\n",
       "      <td>NaN</td>\n",
       "      <td>177.9</td>\n",
       "      <td>6.066667</td>\n",
       "      <td>16.0</td>\n",
       "      <td>320.0</td>\n",
       "      <td>NaN</td>\n",
       "      <td>1005.205556</td>\n",
       "      <td>30.653333</td>\n",
       "      <td>26.652000</td>\n",
       "      <td>22.886667</td>\n",
       "      <td>81.808333</td>\n",
       "      <td>6.6</td>\n",
       "      <td>2.981111</td>\n",
       "      <td>67.741935</td>\n",
       "      <td>NaN</td>\n",
       "    </tr>\n",
       "  </tbody>\n",
       "</table>\n",
       "</div>"
      ],
      "text/plain": [
       "  Data Medicao  DIRECAO PREDOMINANTE DO VENTO, MENSAL(Â° (gr))  \\\n",
       "0   1981-01-31                                             5.0   \n",
       "1   1981-02-28                                             5.0   \n",
       "2   1981-03-31                                             5.0   \n",
       "3   1981-04-30                                             9.0   \n",
       "4   1981-05-31                                             9.0   \n",
       "\n",
       "   EVAPORACAO DO PICHE, MENSAL(mm)  \\\n",
       "0                            162.7   \n",
       "1                              NaN   \n",
       "2                            114.2   \n",
       "3                            124.3   \n",
       "4                             79.1   \n",
       "\n",
       "   EVAPOTRANSPIRACAO POTENCIAL, BH MENSAL(mm)  \\\n",
       "0                                         NaN   \n",
       "1                                         NaN   \n",
       "2                                         NaN   \n",
       "3                                         NaN   \n",
       "4                                         NaN   \n",
       "\n",
       "   EVAPOTRANSPIRACAO REAL, BH MENSAL(mm)  INSOLACAO TOTAL, MENSAL(h)  \\\n",
       "0                                    NaN                       190.2   \n",
       "1                                    NaN                       187.0   \n",
       "2                                    NaN                       191.9   \n",
       "3                                    NaN                       249.8   \n",
       "4                                    NaN                       177.9   \n",
       "\n",
       "   NEBULOSIDADE, MEDIA MENSAL(dÃ©cimos)  \\\n",
       "0                              5.597701   \n",
       "1                              4.794872   \n",
       "2                              5.698925   \n",
       "3                              3.822222   \n",
       "4                              6.066667   \n",
       "\n",
       "   NUMERO DE DIAS COM PRECIP. PLUV, MENSAL(nÃºmero)  \\\n",
       "0                                               7.0   \n",
       "1                                               7.0   \n",
       "2                                              17.0   \n",
       "3                                               6.0   \n",
       "4                                              16.0   \n",
       "\n",
       "   PRECIPITACAO TOTAL, MENSAL(mm)  \\\n",
       "0                            31.5   \n",
       "1                            62.7   \n",
       "2                           528.3   \n",
       "3                            74.5   \n",
       "4                           320.0   \n",
       "\n",
       "   PRESSAO ATMOSFERICA AO NIVEL DO MAR, MEDIA MENSAL(mB)  \\\n",
       "0                                                NaN       \n",
       "1                                                NaN       \n",
       "2                                                NaN       \n",
       "3                                                NaN       \n",
       "4                                                NaN       \n",
       "\n",
       "   PRESSAO ATMOSFERICA, MEDIA MENSAL(mB)  \\\n",
       "0                            1004.718391   \n",
       "1                            1003.760256   \n",
       "2                            1005.005376   \n",
       "3                            1004.151111   \n",
       "4                            1005.205556   \n",
       "\n",
       "   TEMPERATURA MAXIMA MEDIA, MENSAL(Â°C)  \\\n",
       "0                              31.513793   \n",
       "1                              31.365385   \n",
       "2                              30.116129   \n",
       "3                              31.953333   \n",
       "4                              30.653333   \n",
       "\n",
       "   TEMPERATURA MEDIA COMPENSADA, MENSAL(Â°C)  \\\n",
       "0                                  27.553793   \n",
       "1                                  27.510769   \n",
       "2                                  26.489677   \n",
       "3                                  27.484000   \n",
       "4                                  26.652000   \n",
       "\n",
       "   TEMPERATURA MINIMA MEDIA, MENSAL(Â°C)  \\\n",
       "0                              23.900000   \n",
       "1                              23.857692   \n",
       "2                              23.129032   \n",
       "3                              22.910000   \n",
       "4                              22.886667   \n",
       "\n",
       "   UMIDADE RELATIVA DO AR, MEDIA MENSAL(%)  \\\n",
       "0                                74.129310   \n",
       "1                                74.880435   \n",
       "2                                83.369565   \n",
       "3                                77.985294   \n",
       "4                                81.808333   \n",
       "\n",
       "   VENTO, VELOCIDADE MAXIMA MENSAL(m/s)  VENTO, VELOCIDADE MEDIA MENSAL(m/s)  \\\n",
       "0                                   8.1                             5.010345   \n",
       "1                                   8.1                             4.875641   \n",
       "2                                   8.3                             3.882796   \n",
       "3                                   9.1                             3.835556   \n",
       "4                                   6.6                             2.981111   \n",
       "\n",
       "   VISIBILIDADE, MEDIA MENSAL(codigo)  Unnamed: 18  \n",
       "0                           67.796610          NaN  \n",
       "1                           69.038462          NaN  \n",
       "2                           64.193548          NaN  \n",
       "3                           69.672131          NaN  \n",
       "4                           67.741935          NaN  "
      ]
     },
     "execution_count": 3,
     "metadata": {},
     "output_type": "execute_result"
    }
   ],
   "source": [
    "##Data\n",
    "pd.read_csv(\"Solicitado_MES_81_2010_CONVENCIONAL\\\\dados_82287_M_1981-01-01_2010-12-31.csv\",\n",
    "            encoding= 'ISO-8859-1',\n",
    "            sep=';',\n",
    "            header = 9,\n",
    "            decimal=',').head()"
   ]
  },
  {
   "cell_type": "markdown",
   "metadata": {},
   "source": [
    "To import each CSV file, we will create two dictionaries - one to receive the station information and the other to receive the climates data. Each station has a number code; therefore, we will use them as the dictionaries keys."
   ]
  },
  {
   "cell_type": "code",
   "execution_count": 4,
   "metadata": {},
   "outputs": [],
   "source": [
    "##Dictionaries\n",
    "inmet_dados_dic = {} #Data\n",
    "inmet_loc_dic = {} #Information"
   ]
  },
  {
   "cell_type": "code",
   "execution_count": 5,
   "metadata": {},
   "outputs": [],
   "source": [
    "#Loop - For each file in the folder\n",
    "for file_folder in glob.glob(\"Solicitado_MES_81_2010_CONVENCIONAL\\*.csv\"):\n",
    "    \n",
    "    #We're stripping the folder name to just the file name.\n",
    "    file = file_folder.replace(\"Solicitado_MES_81_2010_CONVENCIONAL\\\\\",'')\n",
    "    \n",
    "    # In some files, there are no pieces of information for the whole period.\n",
    "    # We can identify which files have this problem through their names.\n",
    "    # Here, we will import just who has the entire period.\n",
    "    if (file.split('_')[3]=='1981-01-01') & (file.split('_')[4]=='2010-12-31.csv'):\n",
    "        \n",
    "        #Data\n",
    "        inmet_dados_dic[int(file.split('_')[1])] = pd.read_csv(file_folder,\n",
    "                                                               encoding= 'ISO-8859-1',\n",
    "                                                               sep=';',\n",
    "                                                               header = 9,\n",
    "                                                               decimal=',')\n",
    "        #Information\n",
    "        inmet_loc_dic[int(file.split('_')[1])] = pd.read_csv(file_folder,\n",
    "                                                             encoding= 'ISO-8859-1',\n",
    "                                                             sep=':',\n",
    "                                                             nrows=8,\n",
    "                                                             decimal=',')"
   ]
  },
  {
   "cell_type": "markdown",
   "metadata": {},
   "source": [
    "Some imported information came with extra columns and with the information from the column \"Data Medicao\" as the index, see:"
   ]
  },
  {
   "cell_type": "code",
   "execution_count": 6,
   "metadata": {},
   "outputs": [
    {
     "data": {
      "text/html": [
       "<div>\n",
       "<style scoped>\n",
       "    .dataframe tbody tr th:only-of-type {\n",
       "        vertical-align: middle;\n",
       "    }\n",
       "\n",
       "    .dataframe tbody tr th {\n",
       "        vertical-align: top;\n",
       "    }\n",
       "\n",
       "    .dataframe thead th {\n",
       "        text-align: right;\n",
       "    }\n",
       "</style>\n",
       "<table border=\"1\" class=\"dataframe\">\n",
       "  <thead>\n",
       "    <tr style=\"text-align: right;\">\n",
       "      <th></th>\n",
       "      <th>Data Medicao</th>\n",
       "      <th>Unnamed: 17</th>\n",
       "    </tr>\n",
       "  </thead>\n",
       "  <tbody>\n",
       "    <tr>\n",
       "      <th>1981-01-31</th>\n",
       "      <td>NaN</td>\n",
       "      <td>NaN</td>\n",
       "    </tr>\n",
       "    <tr>\n",
       "      <th>1981-02-28</th>\n",
       "      <td>NaN</td>\n",
       "      <td>NaN</td>\n",
       "    </tr>\n",
       "    <tr>\n",
       "      <th>1981-03-31</th>\n",
       "      <td>NaN</td>\n",
       "      <td>NaN</td>\n",
       "    </tr>\n",
       "    <tr>\n",
       "      <th>1981-04-30</th>\n",
       "      <td>NaN</td>\n",
       "      <td>NaN</td>\n",
       "    </tr>\n",
       "    <tr>\n",
       "      <th>1981-05-31</th>\n",
       "      <td>NaN</td>\n",
       "      <td>NaN</td>\n",
       "    </tr>\n",
       "  </tbody>\n",
       "</table>\n",
       "</div>"
      ],
      "text/plain": [
       "            Data Medicao  Unnamed: 17\n",
       "1981-01-31           NaN          NaN\n",
       "1981-02-28           NaN          NaN\n",
       "1981-03-31           NaN          NaN\n",
       "1981-04-30           NaN          NaN\n",
       "1981-05-31           NaN          NaN"
      ]
     },
     "execution_count": 6,
     "metadata": {},
     "output_type": "execute_result"
    }
   ],
   "source": [
    "#Example 1:\n",
    "inmet_dados_dic[83049][[\"Data Medicao\",\"Unnamed: 17\"]].head()"
   ]
  },
  {
   "cell_type": "code",
   "execution_count": 7,
   "metadata": {},
   "outputs": [
    {
     "data": {
      "text/html": [
       "<div>\n",
       "<style scoped>\n",
       "    .dataframe tbody tr th:only-of-type {\n",
       "        vertical-align: middle;\n",
       "    }\n",
       "\n",
       "    .dataframe tbody tr th {\n",
       "        vertical-align: top;\n",
       "    }\n",
       "\n",
       "    .dataframe thead th {\n",
       "        text-align: right;\n",
       "    }\n",
       "</style>\n",
       "<table border=\"1\" class=\"dataframe\">\n",
       "  <thead>\n",
       "    <tr style=\"text-align: right;\">\n",
       "      <th></th>\n",
       "      <th>Data Medicao</th>\n",
       "      <th>Unnamed: 18</th>\n",
       "    </tr>\n",
       "  </thead>\n",
       "  <tbody>\n",
       "    <tr>\n",
       "      <th>0</th>\n",
       "      <td>1981-01-31</td>\n",
       "      <td>NaN</td>\n",
       "    </tr>\n",
       "    <tr>\n",
       "      <th>1</th>\n",
       "      <td>1981-02-28</td>\n",
       "      <td>NaN</td>\n",
       "    </tr>\n",
       "    <tr>\n",
       "      <th>2</th>\n",
       "      <td>1981-03-31</td>\n",
       "      <td>NaN</td>\n",
       "    </tr>\n",
       "    <tr>\n",
       "      <th>3</th>\n",
       "      <td>1981-04-30</td>\n",
       "      <td>NaN</td>\n",
       "    </tr>\n",
       "    <tr>\n",
       "      <th>4</th>\n",
       "      <td>1981-05-31</td>\n",
       "      <td>NaN</td>\n",
       "    </tr>\n",
       "  </tbody>\n",
       "</table>\n",
       "</div>"
      ],
      "text/plain": [
       "  Data Medicao  Unnamed: 18\n",
       "0   1981-01-31          NaN\n",
       "1   1981-02-28          NaN\n",
       "2   1981-03-31          NaN\n",
       "3   1981-04-30          NaN\n",
       "4   1981-05-31          NaN"
      ]
     },
     "execution_count": 7,
     "metadata": {},
     "output_type": "execute_result"
    }
   ],
   "source": [
    "#Example 2:\n",
    "inmet_dados_dic[83492][[\"Data Medicao\",\"Unnamed: 18\"]].head()"
   ]
  },
  {
   "cell_type": "markdown",
   "metadata": {},
   "source": [
    "**We will use a loop to go through the dictionary's data to adjust these problems.**"
   ]
  },
  {
   "cell_type": "code",
   "execution_count": 8,
   "metadata": {},
   "outputs": [],
   "source": [
    "#For each station within the dictionary\n",
    "for est in inmet_dados_dic.keys():\n",
    "    \n",
    "    #If the column \"Data Medicao\" has been imported as an index\n",
    "    if \"Data Medicao\" not in inmet_dados_dic[est].columns:\n",
    "        inmet_dados_dic[est] = inmet_dados_dic[est].reset_index(drop=False)\n",
    "    \n",
    "    #Column Error - \"Shift\" columns to the left and delete extra column\n",
    "    if type(inmet_dados_dic[est][\"Data Medicao\"][0]) != str:\n",
    "        \n",
    "        colunas = inmet_dados_dic[est].columns\n",
    "        \n",
    "        inmet_dados_dic[est] = inmet_dados_dic[est].reset_index().drop(\"Unnamed: 17\", axis=1)\n",
    "        \n",
    "        inmet_dados_dic[est].columns = colunas\n",
    "        \n",
    "        inmet_dados_dic[est] = inmet_dados_dic[est].drop(\"Unnamed: 17\", axis=1)\n",
    "        \n",
    "    #Delete extra column\n",
    "    if \"Unnamed: 18\" in inmet_dados_dic[est].columns:\n",
    "        inmet_dados_dic[est] = inmet_dados_dic[est].drop(\"Unnamed: 18\", axis=1)"
   ]
  },
  {
   "cell_type": "markdown",
   "metadata": {},
   "source": [
    "**Adjustments and New Columns:**\n",
    "\n",
    "Again, we will use a loop to drive inside the dictionary's data to do:\n",
    "\n",
    "- From the column with the date, we will build a column informing the year of the data. \n",
    "- We will turn the column \"Data Medicao\" into a format datetime.\n",
    "- We will turn the column \"Data Medicao\" the index of the data frame.\n",
    "- In the column \"PRECIPITACAO TOTAL, MENSAL(mm),\" we will fill the NaN information with the last report.\n",
    "- Finally, we will create a column with the aridity index by the following formula: $\\frac{Total Precipitation}{Potential Evapotranspiration}$"
   ]
  },
  {
   "cell_type": "code",
   "execution_count": 9,
   "metadata": {},
   "outputs": [],
   "source": [
    "#Para cada estação dentro do dicionário\n",
    "for est in inmet_dados_dic.keys():\n",
    "    \n",
    "    #Creating column with the year\n",
    "    inmet_dados_dic[est][\"Ano Medicao\"] = inmet_dados_dic[est][\"Data Medicao\"].apply(lambda x: x.split('-')[0])\n",
    "    \n",
    "    #Turning the format to datetime\n",
    "    inmet_dados_dic[est][\"Data Medicao\"] = pd.to_datetime(inmet_dados_dic[est][\"Data Medicao\"])\n",
    "    \n",
    "    #Tornando the column \"Data Medicao\" the index\n",
    "    inmet_dados_dic[est] = inmet_dados_dic[est].set_index(\"Data Medicao\")\n",
    "    \n",
    "    #Replacing NaN values\n",
    "    inmet_dados_dic[est][\"PRECIPITACAO TOTAL, MENSAL(mm)\"\n",
    "                        ] = inmet_dados_dic[est][\"PRECIPITACAO TOTAL, MENSAL(mm)\"\n",
    "                                                ].fillna(method = \"ffill\")\n",
    "    \n",
    "    #Creating a column with the aridity index\n",
    "    inmet_dados_dic[est][\"Aridity Index\"] = (inmet_dados_dic[est\n",
    "                                                               ][\"PRECIPITACAO TOTAL, MENSAL(mm)\"\n",
    "                                                                ]/\n",
    "                                                inmet_dados_dic[est\n",
    "                                                               ]['EVAPOTRANSPIRACAO POTENCIAL, BH MENSAL(mm)'])"
   ]
  },
  {
   "cell_type": "markdown",
   "metadata": {},
   "source": [
    "## Indicators for the period 1981 to 2010\n",
    "\n",
    "Now we will seek to create three indicators:\n",
    "\n",
    "- Average annual precipitation.\n",
    "- Average of the Aridity Index per year.\n",
    "- Total days without rain.\n",
    "\n",
    "To do that, we will start building a dictionary for each of these indicators. So, therefore, there will be three dictionaries, and their keys will be, again, the code of each station."
   ]
  },
  {
   "cell_type": "markdown",
   "metadata": {},
   "source": [
    "**Average annual precipitation**"
   ]
  },
  {
   "cell_type": "code",
   "execution_count": 10,
   "metadata": {},
   "outputs": [],
   "source": [
    "#Dictionary\n",
    "media_prec_anual_dic = {}"
   ]
  },
  {
   "cell_type": "markdown",
   "metadata": {},
   "source": [
    "Inside the subsequent loops, we will pass through each station and select, for the indicator calculation, only the years with complete information."
   ]
  },
  {
   "cell_type": "code",
   "execution_count": 11,
   "metadata": {},
   "outputs": [],
   "source": [
    "for est in inmet_dados_dic.keys():\n",
    "    \n",
    "    #Only full years\n",
    "    anos_complet = (inmet_dados_dic[est].\n",
    "                    groupby(\"Ano Medicao\").\n",
    "                    count().\n",
    "                    loc[inmet_dados_dic[est].\n",
    "                        groupby(\"Ano Medicao\").\n",
    "                        count()[\"PRECIPITACAO TOTAL, MENSAL(mm)\"]==12].\n",
    "                    index)\n",
    "    \n",
    "    #Passing the value (calculating the average)\n",
    "    media_prec_anual_dic[est] = inmet_dados_dic[est].groupby(\"Ano Medicao\"\n",
    "                                                         ).sum().loc[anos_complet #full years\n",
    "                                                                    ][\"PRECIPITACAO TOTAL, MENSAL(mm)\"\n",
    "                                                                     ].mean() #average"
   ]
  },
  {
   "cell_type": "markdown",
   "metadata": {},
   "source": [
    "**Aridity Index**"
   ]
  },
  {
   "cell_type": "code",
   "execution_count": 12,
   "metadata": {},
   "outputs": [],
   "source": [
    "#Dictionary\n",
    "indice_Aridez= {}"
   ]
  },
  {
   "cell_type": "markdown",
   "metadata": {},
   "source": [
    "The following loop follows the same logic; however, as you will see, we calculate each month's average, and then we calculate the average of the years."
   ]
  },
  {
   "cell_type": "code",
   "execution_count": 13,
   "metadata": {},
   "outputs": [],
   "source": [
    "for est in inmet_dados_dic.keys():\n",
    "    \n",
    "    #Only full years\n",
    "    anos_complet = (inmet_dados_dic[est].\n",
    "                    groupby(\"Ano Medicao\").\n",
    "                    count().\n",
    "                    loc[inmet_dados_dic[est].\n",
    "                        groupby(\"Ano Medicao\").\n",
    "                        count()[\"Aridity Index\"]==12].\n",
    "                    index)\n",
    "    \n",
    "    #Passing the value (calculating the average)\n",
    "    indice_Aridez[est] = (inmet_dados_dic[est].groupby(\"Ano Medicao\").mean(). #Average\n",
    "                          loc[anos_complet][\"Aridity Index\"].mean()) #Average"
   ]
  },
  {
   "cell_type": "markdown",
   "metadata": {},
   "source": [
    "**Total days without rain**"
   ]
  },
  {
   "cell_type": "code",
   "execution_count": 14,
   "metadata": {},
   "outputs": [],
   "source": [
    "#Dictionary\n",
    "dias_s_chuv= {}"
   ]
  },
  {
   "cell_type": "code",
   "execution_count": 15,
   "metadata": {},
   "outputs": [],
   "source": [
    "for est in inmet_dados_dic.keys():\n",
    "    \n",
    "    #Only full years\n",
    "    anos_complet = (inmet_dados_dic[est].\n",
    "                    groupby(\"Ano Medicao\").\n",
    "                    count().\n",
    "                    loc[inmet_dados_dic[est].\n",
    "                        groupby(\"Ano Medicao\").\n",
    "                        count()[\"NUMERO DE DIAS COM PRECIP. PLUV, MENSAL(nÃºmero)\"]==12].\n",
    "                    index)\n",
    "    \n",
    "    #Passing the value (calculating the average)\n",
    "    dias_s_chuv[est] = (inmet_dados_dic[est].\n",
    "                        groupby(\"Ano Medicao\").\n",
    "                        sum(). #Here, as in the case of average annual precipitation, we add up.\n",
    "                        loc[anos_complet][\"NUMERO DE DIAS COM PRECIP. PLUV, MENSAL(nÃºmero)\"].\n",
    "                        mean()) #Average"
   ]
  },
  {
   "cell_type": "markdown",
   "metadata": {},
   "source": [
    "**Now, using the dictionaries, we will create a dataframe for each indicator.**"
   ]
  },
  {
   "cell_type": "code",
   "execution_count": 16,
   "metadata": {},
   "outputs": [],
   "source": [
    "# Average annual precipitation\n",
    "media_prec_anual_df = pd.DataFrame(media_prec_anual_dic.values(),\n",
    "                                   columns = [\"MEDIA_PREC_ANUAL\"],\n",
    "                                   index=media_prec_anual_dic.keys())"
   ]
  },
  {
   "cell_type": "code",
   "execution_count": 17,
   "metadata": {},
   "outputs": [
    {
     "data": {
      "text/html": [
       "<div>\n",
       "<style scoped>\n",
       "    .dataframe tbody tr th:only-of-type {\n",
       "        vertical-align: middle;\n",
       "    }\n",
       "\n",
       "    .dataframe tbody tr th {\n",
       "        vertical-align: top;\n",
       "    }\n",
       "\n",
       "    .dataframe thead th {\n",
       "        text-align: right;\n",
       "    }\n",
       "</style>\n",
       "<table border=\"1\" class=\"dataframe\">\n",
       "  <thead>\n",
       "    <tr style=\"text-align: right;\">\n",
       "      <th></th>\n",
       "      <th>MEDIA_PREC_ANUAL</th>\n",
       "    </tr>\n",
       "  </thead>\n",
       "  <tbody>\n",
       "    <tr>\n",
       "      <th>82024</th>\n",
       "      <td>1857.982759</td>\n",
       "    </tr>\n",
       "    <tr>\n",
       "      <th>82029</th>\n",
       "      <td>NaN</td>\n",
       "    </tr>\n",
       "    <tr>\n",
       "      <th>82042</th>\n",
       "      <td>2294.330000</td>\n",
       "    </tr>\n",
       "    <tr>\n",
       "      <th>82067</th>\n",
       "      <td>3171.840000</td>\n",
       "    </tr>\n",
       "    <tr>\n",
       "      <th>82098</th>\n",
       "      <td>2538.106667</td>\n",
       "    </tr>\n",
       "  </tbody>\n",
       "</table>\n",
       "</div>"
      ],
      "text/plain": [
       "       MEDIA_PREC_ANUAL\n",
       "82024       1857.982759\n",
       "82029               NaN\n",
       "82042       2294.330000\n",
       "82067       3171.840000\n",
       "82098       2538.106667"
      ]
     },
     "execution_count": 17,
     "metadata": {},
     "output_type": "execute_result"
    }
   ],
   "source": [
    "#Result!\n",
    "media_prec_anual_df.head()"
   ]
  },
  {
   "cell_type": "code",
   "execution_count": 18,
   "metadata": {},
   "outputs": [],
   "source": [
    "# Aridity index\n",
    "indice_Aridez_df = pd.DataFrame(indice_Aridez.values(),\n",
    "                                columns = [\"Aridity Index\"],\n",
    "                                index=indice_Aridez.keys())"
   ]
  },
  {
   "cell_type": "code",
   "execution_count": 19,
   "metadata": {},
   "outputs": [
    {
     "data": {
      "text/html": [
       "<div>\n",
       "<style scoped>\n",
       "    .dataframe tbody tr th:only-of-type {\n",
       "        vertical-align: middle;\n",
       "    }\n",
       "\n",
       "    .dataframe tbody tr th {\n",
       "        vertical-align: top;\n",
       "    }\n",
       "\n",
       "    .dataframe thead th {\n",
       "        text-align: right;\n",
       "    }\n",
       "</style>\n",
       "<table border=\"1\" class=\"dataframe\">\n",
       "  <thead>\n",
       "    <tr style=\"text-align: right;\">\n",
       "      <th></th>\n",
       "      <th>Aridity Index</th>\n",
       "    </tr>\n",
       "  </thead>\n",
       "  <tbody>\n",
       "    <tr>\n",
       "      <th>82024</th>\n",
       "      <td>1.067662</td>\n",
       "    </tr>\n",
       "    <tr>\n",
       "      <th>82029</th>\n",
       "      <td>NaN</td>\n",
       "    </tr>\n",
       "    <tr>\n",
       "      <th>82042</th>\n",
       "      <td>1.285756</td>\n",
       "    </tr>\n",
       "    <tr>\n",
       "      <th>82067</th>\n",
       "      <td>NaN</td>\n",
       "    </tr>\n",
       "    <tr>\n",
       "      <th>82098</th>\n",
       "      <td>1.449600</td>\n",
       "    </tr>\n",
       "  </tbody>\n",
       "</table>\n",
       "</div>"
      ],
      "text/plain": [
       "       Aridity Index\n",
       "82024       1.067662\n",
       "82029            NaN\n",
       "82042       1.285756\n",
       "82067            NaN\n",
       "82098       1.449600"
      ]
     },
     "execution_count": 19,
     "metadata": {},
     "output_type": "execute_result"
    }
   ],
   "source": [
    "#Result!\n",
    "indice_Aridez_df.head()"
   ]
  },
  {
   "cell_type": "code",
   "execution_count": 20,
   "metadata": {},
   "outputs": [],
   "source": [
    "# Days without rain\n",
    "dias_s_chuv_df = pd.DataFrame(dias_s_chuv.values(),\n",
    "                              columns = [\"dias_s_chuv\"],\n",
    "                              index=dias_s_chuv.keys())"
   ]
  },
  {
   "cell_type": "code",
   "execution_count": 21,
   "metadata": {},
   "outputs": [
    {
     "data": {
      "text/html": [
       "<div>\n",
       "<style scoped>\n",
       "    .dataframe tbody tr th:only-of-type {\n",
       "        vertical-align: middle;\n",
       "    }\n",
       "\n",
       "    .dataframe tbody tr th {\n",
       "        vertical-align: top;\n",
       "    }\n",
       "\n",
       "    .dataframe thead th {\n",
       "        text-align: right;\n",
       "    }\n",
       "</style>\n",
       "<table border=\"1\" class=\"dataframe\">\n",
       "  <thead>\n",
       "    <tr style=\"text-align: right;\">\n",
       "      <th></th>\n",
       "      <th>dias_s_chuv</th>\n",
       "    </tr>\n",
       "  </thead>\n",
       "  <tbody>\n",
       "    <tr>\n",
       "      <th>82024</th>\n",
       "      <td>135.736842</td>\n",
       "    </tr>\n",
       "    <tr>\n",
       "      <th>82029</th>\n",
       "      <td>NaN</td>\n",
       "    </tr>\n",
       "    <tr>\n",
       "      <th>82042</th>\n",
       "      <td>157.200000</td>\n",
       "    </tr>\n",
       "    <tr>\n",
       "      <th>82067</th>\n",
       "      <td>239.500000</td>\n",
       "    </tr>\n",
       "    <tr>\n",
       "      <th>82098</th>\n",
       "      <td>194.600000</td>\n",
       "    </tr>\n",
       "  </tbody>\n",
       "</table>\n",
       "</div>"
      ],
      "text/plain": [
       "       dias_s_chuv\n",
       "82024   135.736842\n",
       "82029          NaN\n",
       "82042   157.200000\n",
       "82067   239.500000\n",
       "82098   194.600000"
      ]
     },
     "execution_count": 21,
     "metadata": {},
     "output_type": "execute_result"
    }
   ],
   "source": [
    "#Result!\n",
    "dias_s_chuv_df.head()"
   ]
  },
  {
   "cell_type": "markdown",
   "metadata": {},
   "source": [
    "Days **without** rain!\n",
    "\n",
    "As it was created, the data is reflecting the days WITH rain, as a year has 365 days we will subtract to identify the days WITHOUT rain."
   ]
  },
  {
   "cell_type": "code",
   "execution_count": 22,
   "metadata": {},
   "outputs": [],
   "source": [
    "dias_s_chuv_df[\"dias_s_chuv\"] = (365 - dias_s_chuv_df[\"dias_s_chuv\"])"
   ]
  },
  {
   "cell_type": "markdown",
   "metadata": {},
   "source": [
    "## Building the final data frame"
   ]
  },
  {
   "cell_type": "code",
   "execution_count": 23,
   "metadata": {},
   "outputs": [],
   "source": [
    "##Concatenating data frames (We are also deleting the NaN values)\n",
    "df_final = pd.concat([media_prec_anual_df,indice_Aridez_df,dias_s_chuv_df], axis=1).dropna()"
   ]
  },
  {
   "cell_type": "code",
   "execution_count": 24,
   "metadata": {},
   "outputs": [
    {
     "data": {
      "text/html": [
       "<div>\n",
       "<style scoped>\n",
       "    .dataframe tbody tr th:only-of-type {\n",
       "        vertical-align: middle;\n",
       "    }\n",
       "\n",
       "    .dataframe tbody tr th {\n",
       "        vertical-align: top;\n",
       "    }\n",
       "\n",
       "    .dataframe thead th {\n",
       "        text-align: right;\n",
       "    }\n",
       "</style>\n",
       "<table border=\"1\" class=\"dataframe\">\n",
       "  <thead>\n",
       "    <tr style=\"text-align: right;\">\n",
       "      <th></th>\n",
       "      <th>MEDIA_PREC_ANUAL</th>\n",
       "      <th>Aridity Index</th>\n",
       "      <th>dias_s_chuv</th>\n",
       "    </tr>\n",
       "  </thead>\n",
       "  <tbody>\n",
       "    <tr>\n",
       "      <th>82024</th>\n",
       "      <td>1857.982759</td>\n",
       "      <td>1.067662</td>\n",
       "      <td>229.263158</td>\n",
       "    </tr>\n",
       "    <tr>\n",
       "      <th>82042</th>\n",
       "      <td>2294.330000</td>\n",
       "      <td>1.285756</td>\n",
       "      <td>207.800000</td>\n",
       "    </tr>\n",
       "    <tr>\n",
       "      <th>82098</th>\n",
       "      <td>2538.106667</td>\n",
       "      <td>1.449600</td>\n",
       "      <td>170.400000</td>\n",
       "    </tr>\n",
       "    <tr>\n",
       "      <th>82106</th>\n",
       "      <td>3060.840000</td>\n",
       "      <td>1.937485</td>\n",
       "      <td>129.941176</td>\n",
       "    </tr>\n",
       "    <tr>\n",
       "      <th>82113</th>\n",
       "      <td>2492.100000</td>\n",
       "      <td>1.432446</td>\n",
       "      <td>154.666667</td>\n",
       "    </tr>\n",
       "  </tbody>\n",
       "</table>\n",
       "</div>"
      ],
      "text/plain": [
       "       MEDIA_PREC_ANUAL  Aridity Index  dias_s_chuv\n",
       "82024       1857.982759       1.067662   229.263158\n",
       "82042       2294.330000       1.285756   207.800000\n",
       "82098       2538.106667       1.449600   170.400000\n",
       "82106       3060.840000       1.937485   129.941176\n",
       "82113       2492.100000       1.432446   154.666667"
      ]
     },
     "execution_count": 24,
     "metadata": {},
     "output_type": "execute_result"
    }
   ],
   "source": [
    "#Result!\n",
    "df_final.head()"
   ]
  },
  {
   "cell_type": "markdown",
   "metadata": {},
   "source": [
    "**Now we will add the locations of the weather stations (latitude and longitude)**"
   ]
  },
  {
   "cell_type": "code",
   "execution_count": 25,
   "metadata": {},
   "outputs": [
    {
     "data": {
      "text/html": [
       "<div>\n",
       "<style scoped>\n",
       "    .dataframe tbody tr th:only-of-type {\n",
       "        vertical-align: middle;\n",
       "    }\n",
       "\n",
       "    .dataframe tbody tr th {\n",
       "        vertical-align: top;\n",
       "    }\n",
       "\n",
       "    .dataframe thead th {\n",
       "        text-align: right;\n",
       "    }\n",
       "</style>\n",
       "<table border=\"1\" class=\"dataframe\">\n",
       "  <thead>\n",
       "    <tr style=\"text-align: right;\">\n",
       "      <th></th>\n",
       "      <th>Nome</th>\n",
       "      <th>BARCELOS</th>\n",
       "    </tr>\n",
       "  </thead>\n",
       "  <tbody>\n",
       "    <tr>\n",
       "      <th>0</th>\n",
       "      <td>Codigo Estacao</td>\n",
       "      <td>82113</td>\n",
       "    </tr>\n",
       "    <tr>\n",
       "      <th>1</th>\n",
       "      <td>Latitude</td>\n",
       "      <td>-0.97416666</td>\n",
       "    </tr>\n",
       "    <tr>\n",
       "      <th>2</th>\n",
       "      <td>Longitude</td>\n",
       "      <td>-62.9286111</td>\n",
       "    </tr>\n",
       "    <tr>\n",
       "      <th>3</th>\n",
       "      <td>Altitude</td>\n",
       "      <td>30.65</td>\n",
       "    </tr>\n",
       "    <tr>\n",
       "      <th>4</th>\n",
       "      <td>Situacao</td>\n",
       "      <td>Operante</td>\n",
       "    </tr>\n",
       "    <tr>\n",
       "      <th>5</th>\n",
       "      <td>Data Inicial</td>\n",
       "      <td>1981-01-01</td>\n",
       "    </tr>\n",
       "    <tr>\n",
       "      <th>6</th>\n",
       "      <td>Data Final</td>\n",
       "      <td>2010-12-31</td>\n",
       "    </tr>\n",
       "    <tr>\n",
       "      <th>7</th>\n",
       "      <td>Periodicidade da Medicao</td>\n",
       "      <td>Mensal</td>\n",
       "    </tr>\n",
       "  </tbody>\n",
       "</table>\n",
       "</div>"
      ],
      "text/plain": [
       "                       Nome      BARCELOS\n",
       "0            Codigo Estacao         82113\n",
       "1                  Latitude   -0.97416666\n",
       "2                 Longitude   -62.9286111\n",
       "3                  Altitude         30.65\n",
       "4                  Situacao      Operante\n",
       "5              Data Inicial    1981-01-01\n",
       "6                Data Final    2010-12-31\n",
       "7  Periodicidade da Medicao        Mensal"
      ]
     },
     "execution_count": 25,
     "metadata": {},
     "output_type": "execute_result"
    }
   ],
   "source": [
    "##Going back to the dictionary we created at the beginning, observe how it is organized:\n",
    "inmet_loc_dic[82113]"
   ]
  },
  {
   "cell_type": "markdown",
   "metadata": {},
   "source": [
    "In our final data frame, we will create a column for the latitude and another for the longitude. We will then fill in this information by capturing it from the \"inmet_loc_dic\" dictionary."
   ]
  },
  {
   "cell_type": "code",
   "execution_count": 26,
   "metadata": {},
   "outputs": [],
   "source": [
    "#Empty columns\n",
    "df_final[\"latitude\"] = ''\n",
    "df_final[\"longitude\"] = ''"
   ]
  },
  {
   "cell_type": "markdown",
   "metadata": {},
   "source": [
    "We will use a loop to fill these columns that will go through all the stations in our final data frame. Finally, we will manage the station code to locate the information in the dictionary. The following is an example of the logic we will practice to select data from the dictionary."
   ]
  },
  {
   "cell_type": "code",
   "execution_count": 27,
   "metadata": {},
   "outputs": [
    {
     "data": {
      "text/plain": [
       "Nome\n",
       "Latitude      -0.97416666\n",
       "Longitude     -62.9286111\n",
       "Name:  BARCELOS, dtype: object"
      ]
     },
     "execution_count": 27,
     "metadata": {},
     "output_type": "execute_result"
    }
   ],
   "source": [
    "inmet_loc_dic[82113].set_index(\"Nome\").loc[[\"Latitude\",\"Longitude\"],inmet_loc_dic[82113].set_index(\"Nome\").columns[0]]"
   ]
  },
  {
   "cell_type": "code",
   "execution_count": 28,
   "metadata": {},
   "outputs": [],
   "source": [
    "#For each information in the DF\n",
    "for index in df_final.index:\n",
    "    \n",
    "    #Capturing the latitude value\n",
    "    latitude = (inmet_loc_dic[index].set_index(\"Nome\").\n",
    "                loc[[\"Latitude\",\"Longitude\"],\n",
    "                    inmet_loc_dic[index].set_index(\"Nome\").columns[0]].values[0])\n",
    "    \n",
    "    #Capturing the longitude value\n",
    "    longitude = (inmet_loc_dic[index].set_index(\"Nome\").\n",
    "                 loc[[\"Latitude\",\"Longitude\"],\n",
    "                     inmet_loc_dic[index].set_index(\"Nome\").columns[0]].values[1])\n",
    "    \n",
    "    #Passing the value to the final data frame\n",
    "    df_final.loc[index,\"latitude\"] = latitude\n",
    "    df_final.loc[index,\"longitude\"] = longitude"
   ]
  },
  {
   "cell_type": "markdown",
   "metadata": {},
   "source": [
    "Columns are like a string; let's convert the values to float."
   ]
  },
  {
   "cell_type": "code",
   "execution_count": 29,
   "metadata": {},
   "outputs": [],
   "source": [
    "df_final[\"latitude\"] = df_final[\"latitude\"].astype(float)\n",
    "df_final[\"longitude\"] = df_final[\"longitude\"].astype(float)"
   ]
  },
  {
   "cell_type": "code",
   "execution_count": 30,
   "metadata": {},
   "outputs": [
    {
     "data": {
      "text/html": [
       "<div>\n",
       "<style scoped>\n",
       "    .dataframe tbody tr th:only-of-type {\n",
       "        vertical-align: middle;\n",
       "    }\n",
       "\n",
       "    .dataframe tbody tr th {\n",
       "        vertical-align: top;\n",
       "    }\n",
       "\n",
       "    .dataframe thead th {\n",
       "        text-align: right;\n",
       "    }\n",
       "</style>\n",
       "<table border=\"1\" class=\"dataframe\">\n",
       "  <thead>\n",
       "    <tr style=\"text-align: right;\">\n",
       "      <th></th>\n",
       "      <th>MEDIA_PREC_ANUAL</th>\n",
       "      <th>Aridity Index</th>\n",
       "      <th>dias_s_chuv</th>\n",
       "      <th>latitude</th>\n",
       "      <th>longitude</th>\n",
       "    </tr>\n",
       "  </thead>\n",
       "  <tbody>\n",
       "    <tr>\n",
       "      <th>82024</th>\n",
       "      <td>1857.982759</td>\n",
       "      <td>1.067662</td>\n",
       "      <td>229.263158</td>\n",
       "      <td>2.829444</td>\n",
       "      <td>-60.661944</td>\n",
       "    </tr>\n",
       "    <tr>\n",
       "      <th>82042</th>\n",
       "      <td>2294.330000</td>\n",
       "      <td>1.285756</td>\n",
       "      <td>207.800000</td>\n",
       "      <td>1.832500</td>\n",
       "      <td>-61.120833</td>\n",
       "    </tr>\n",
       "    <tr>\n",
       "      <th>82098</th>\n",
       "      <td>2538.106667</td>\n",
       "      <td>1.449600</td>\n",
       "      <td>170.400000</td>\n",
       "      <td>-0.045000</td>\n",
       "      <td>-51.110000</td>\n",
       "    </tr>\n",
       "    <tr>\n",
       "      <th>82106</th>\n",
       "      <td>3060.840000</td>\n",
       "      <td>1.937485</td>\n",
       "      <td>129.941176</td>\n",
       "      <td>-0.125278</td>\n",
       "      <td>-67.061111</td>\n",
       "    </tr>\n",
       "    <tr>\n",
       "      <th>82113</th>\n",
       "      <td>2492.100000</td>\n",
       "      <td>1.432446</td>\n",
       "      <td>154.666667</td>\n",
       "      <td>-0.974167</td>\n",
       "      <td>-62.928611</td>\n",
       "    </tr>\n",
       "  </tbody>\n",
       "</table>\n",
       "</div>"
      ],
      "text/plain": [
       "       MEDIA_PREC_ANUAL  Aridity Index  dias_s_chuv  latitude  longitude\n",
       "82024       1857.982759       1.067662   229.263158  2.829444 -60.661944\n",
       "82042       2294.330000       1.285756   207.800000  1.832500 -61.120833\n",
       "82098       2538.106667       1.449600   170.400000 -0.045000 -51.110000\n",
       "82106       3060.840000       1.937485   129.941176 -0.125278 -67.061111\n",
       "82113       2492.100000       1.432446   154.666667 -0.974167 -62.928611"
      ]
     },
     "execution_count": 30,
     "metadata": {},
     "output_type": "execute_result"
    }
   ],
   "source": [
    "##Result!\n",
    "df_final.head()"
   ]
  },
  {
   "cell_type": "markdown",
   "metadata": {},
   "source": [
    "## Exporting as a CSV file"
   ]
  },
  {
   "cell_type": "code",
   "execution_count": 31,
   "metadata": {},
   "outputs": [],
   "source": [
    "df_final.reset_index().to_csv(\"indicators_81_2010.csv\",index=False)"
   ]
  }
 ],
 "metadata": {
  "kernelspec": {
   "display_name": "Python 3",
   "language": "python",
   "name": "python3"
  },
  "language_info": {
   "codemirror_mode": {
    "name": "ipython",
    "version": 3
   },
   "file_extension": ".py",
   "mimetype": "text/x-python",
   "name": "python",
   "nbconvert_exporter": "python",
   "pygments_lexer": "ipython3",
   "version": "3.7.6"
  }
 },
 "nbformat": 4,
 "nbformat_minor": 4
}
